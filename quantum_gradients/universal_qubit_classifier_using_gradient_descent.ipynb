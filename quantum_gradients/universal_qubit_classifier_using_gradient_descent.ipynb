{
  "nbformat": 4,
  "nbformat_minor": 0,
  "metadata": {
    "kernelspec": {
      "name": "python3",
      "display_name": "Python 3"
    },
    "language_info": {
      "codemirror_mode": {
        "name": "ipython",
        "version": 3
      },
      "file_extension": ".py",
      "mimetype": "text/x-python",
      "name": "python",
      "nbconvert_exporter": "python",
      "pygments_lexer": "ipython3",
      "version": "3.6.9"
    },
    "colab": {
      "name": "universal_qubit_classifier_gradient_descent.ipynb",
      "provenance": [],
      "include_colab_link": true
    },
    "accelerator": "GPU"
  },
  "cells": [
    {
      "cell_type": "markdown",
      "metadata": {
        "id": "view-in-github",
        "colab_type": "text"
      },
      "source": [
        "<a href=\"https://colab.research.google.com/github/kareem1925/Ismailia-school-of-AI/blob/master/quantum_gradients/universal_qubit_classifier_using_gradient_descent.ipynb\" target=\"_parent\"><img src=\"https://colab.research.google.com/assets/colab-badge.svg\" alt=\"Open In Colab\"/></a>"
      ]
    },
    {
      "cell_type": "code",
      "metadata": {
        "id": "WQG-l10Nt7uR",
        "colab_type": "code",
        "outputId": "c623c982-d1ad-4618-e57a-3a09763a7b23",
        "colab": {
          "base_uri": "https://localhost:8080/",
          "height": 323
        }
      },
      "source": [
        "!pip install qiskit -q --upgrade"
      ],
      "execution_count": 0,
      "outputs": [
        {
          "output_type": "stream",
          "text": [
            "\u001b[K     |████████████████████████████████| 2.7MB 9.3MB/s \n",
            "\u001b[K     |████████████████████████████████| 18.2MB 130kB/s \n",
            "\u001b[K     |████████████████████████████████| 92kB 13.3MB/s \n",
            "\u001b[K     |████████████████████████████████| 102kB 17.0MB/s \n",
            "\u001b[K     |████████████████████████████████| 1.4MB 61.7MB/s \n",
            "\u001b[K     |████████████████████████████████| 51kB 10.0MB/s \n",
            "\u001b[K     |████████████████████████████████| 5.6MB 29.0MB/s \n",
            "\u001b[K     |████████████████████████████████| 51kB 9.2MB/s \n",
            "\u001b[K     |████████████████████████████████| 71kB 12.5MB/s \n",
            "\u001b[K     |████████████████████████████████| 573kB 52.7MB/s \n",
            "\u001b[K     |████████████████████████████████| 24.3MB 1.3MB/s \n",
            "\u001b[K     |████████████████████████████████| 2.3MB 60.5MB/s \n",
            "\u001b[?25h  Building wheel for qiskit (setup.py) ... \u001b[?25l\u001b[?25hdone\n",
            "  Building wheel for marshmallow-polyfield (setup.py) ... \u001b[?25l\u001b[?25hdone\n",
            "  Building wheel for dlx (setup.py) ... \u001b[?25l\u001b[?25hdone\n",
            "  Building wheel for docplex (setup.py) ... \u001b[?25l\u001b[?25hdone\n",
            "  Building wheel for inflection (setup.py) ... \u001b[?25l\u001b[?25hdone\n",
            "  Building wheel for docloud (setup.py) ... \u001b[?25l\u001b[?25hdone\n"
          ],
          "name": "stdout"
        }
      ]
    },
    {
      "cell_type": "code",
      "metadata": {
        "id": "Ho8wC0k-t6lS",
        "colab_type": "code",
        "colab": {}
      },
      "source": [
        "from qiskit import QuantumCircuit, QuantumRegister, ClassicalRegister\n",
        "from qiskit import *\n",
        "from qiskit.quantum_info.analysis import average_data\n",
        "from qiskit.quantum_info import state_fidelity\n",
        "from sklearn.metrics import accuracy_score,log_loss,confusion_matrix,classification_report\n",
        "import numpy as np\n",
        "from tqdm import tqdm \n",
        "from sklearn.datasets import make_moons\n",
        "from sklearn.model_selection import train_test_split\n",
        "from sklearn.preprocessing import MinMaxScaler\n",
        "import matplotlib.pylab as plt"
      ],
      "execution_count": 0,
      "outputs": []
    },
    {
      "cell_type": "code",
      "metadata": {
        "id": "1PDmIbXNpLXH",
        "colab_type": "code",
        "colab": {}
      },
      "source": [
        "n_qubits = 2\n",
        "layers = 5\n",
        "n_samples = 800"
      ],
      "execution_count": 0,
      "outputs": []
    },
    {
      "cell_type": "code",
      "metadata": {
        "id": "s9MCEuuYpLOw",
        "colab_type": "code",
        "colab": {}
      },
      "source": [
        "def cerate_data(n_qubits,layers,dataset_name,n_samples,test_size = 0.1,plot=True,normalize=True):\n",
        "\n",
        "  \"\"\"\n",
        "  this fucntion takes 4 main inputs:\n",
        "  n_qubits: int 1,....,n\n",
        "  layers: int 1,....,n\n",
        "  dataset_name: str like 'moons'\n",
        "  n_samples: int 2,......,n\n",
        "  test_size: float between 0 and 1\n",
        "\n",
        "  it returns the training and the testing dataset with their labels and also the \n",
        "  corrosponding target states and also the weights for training the classifier\n",
        "  \"\"\"\n",
        "\n",
        "  # creating circles dataset taken from: https://github.com/AdrianPerezSalinas/universal_qlassifier/blob/master/data_gen.py\n",
        "\n",
        "  def _circle(n_samples):\n",
        "    centers = np.array([[0, 0]])\n",
        "    radii = np.array([np.sqrt(1.8/np.pi)])\n",
        "    data=[]\n",
        "    dim = 2\n",
        "    labels=[]\n",
        "    np.random.seed(1000)\n",
        "    for i in range(samples):\n",
        "        x = 2 * (np.random.rand(dim)) - 1\n",
        "        y = 0\n",
        "        for c, r in zip(centers, radii):  \n",
        "            if np.linalg.norm(x - c) < r:\n",
        "                y = 1 \n",
        "\n",
        "        data.append(x)\n",
        "        labels.append(y)\n",
        "            \n",
        "    return np.array(data), np.array(labels)\n",
        "\n",
        "  if dataset_name.lower() == 'moons':\n",
        "    data,labels = make_moons(n_samples=n_samples,random_state=5,noise=0.04)\n",
        "  \n",
        "  if dataset_name.lower() == 'circles':\n",
        "    data,labels = _circle(n_samples)\n",
        "\n",
        "  x_train,x_test,y_train,y_test = train_test_split(data,labels,stratify=labels,test_size=test_size,random_state=0) # splitting data evenly\n",
        "\n",
        "  if normalize: # scale features  [-1:1]\n",
        "\n",
        "    if len(x_train.shape) == 1: #check for dimension to prevent any error from scaling\n",
        "      x_train = x_train.reshape(-1,1)\n",
        "      x_test = x_test.reshape(-1,1)\n",
        "\n",
        "    scale = MinMaxScaler(feature_range=(-1,1)).fit(x_train)\n",
        "    x_train = scale.transform(x_train)\n",
        "    x_test = scale.transform(x_test)\n",
        "  \n",
        "  #check features' dimensions and make it 3 or its multiples\n",
        "  if len(x_train)<3 or len(x_train) > 6:\n",
        "\n",
        "    if x_train.shape[1] == 2:\n",
        "\n",
        "      x_train = np.hstack((x_train,np.zeros(len(x_train)).reshape(-1,1)))\n",
        "      x_test = np.hstack((x_test,np.zeros(len(x_test)).reshape(-1,1)))\n",
        "\n",
        "    if x_train.shape[1] == 1:\n",
        "      \n",
        "      x_train = np.hstack((x_train,np.zeros(len(x_train)).reshape(-1,1),np.zeros(len(x_train)).reshape(-1,1)))\n",
        "      x_test = np.hstack((x_test,np.zeros(len(x_test)).reshape(-1,1),np.zeros(len(x_test)).reshape(-1,1)))\n",
        "    \n",
        "    if x_train.shape[1] == 4:\n",
        "      \n",
        "      x_train = np.hstack((x_train,np.zeros(len(x_train)).reshape(-1,1),np.zeros(len(x_train)).reshape(-1,1)))\n",
        "      x_test = np.hstack((x_test,np.zeros(len(x_test)).reshape(-1,1),np.zeros(len(x_test)).reshape(-1,1)))\n",
        "\n",
        "    if x_train.shape[1] == 5:\n",
        "\n",
        "      x_train = np.hstack((x_train,np.zeros(len(x_train)).reshape(-1,1)))\n",
        "      x_test = np.hstack((x_test,np.zeros(len(x_test)).reshape(-1,1)))\n",
        "    if x_train.shape[1] > 6:\n",
        "      raise ValueError(\"please create a dataset whose number of features are divisible by 3 as there is no checking mechanisim implemented for values bigger than 6\")\n",
        "\n",
        "  # prepare target states based on number of labels, currently only two-label is implemented\n",
        "\n",
        "  n_of_labels = len(np.unique(labels))\n",
        "\n",
        "  state_labels = np.zeros((n_of_labels,2**n_qubits),dtype=np.complex128)\n",
        "\n",
        "  if n_of_labels == 2:\n",
        "    state_labels[0,0] = 1\n",
        "    if n_qubits > 1:\n",
        "      state_labels[-1] = -1/np.sqrt(2)\n",
        "    else:\n",
        "      state_labels[-1,-1] = 1\n",
        "\n",
        "\n",
        "  # initialize weights  \n",
        "  np.random.seed(100) #to make results reproducible\n",
        "  weights = np.random.rand(n_qubits,layers,3)\n",
        "  \n",
        "  if plot:\n",
        "    plt.scatter(x_train[:,0][y_train==0], x_train[:,1][y_train==0], marker='o', \n",
        "                color='red', label='class 0')\n",
        "    plt.scatter(x_train[:,0][y_train==1], x_train[:,1][y_train==1], marker='*', \n",
        "                color='blue', label='class 1')\n",
        "    plt.legend()\n",
        "    plt.show()\n",
        "\n",
        "  return (x_train,y_train),(x_test,y_test),state_labels,weights\n"
      ],
      "execution_count": 0,
      "outputs": []
    },
    {
      "cell_type": "code",
      "metadata": {
        "id": "fs7DQkwIsQN-",
        "colab_type": "code",
        "outputId": "a7753ea6-164c-434f-9006-d80a7e7267b2",
        "colab": {
          "base_uri": "https://localhost:8080/",
          "height": 265
        }
      },
      "source": [
        "(x_train,y_train),(x_test,y_test),State_labels,params = cerate_data(1,6,'moons',900,test_size=0.1)"
      ],
      "execution_count": 0,
      "outputs": [
        {
          "output_type": "display_data",
          "data": {
            "image/png": "[encoded data removed]",
            "text/plain": [
              "<Figure size 432x288 with 1 Axes>"
            ]
          },
          "metadata": {
            "tags": []
          }
        }
      ]
    },
    {
      "cell_type": "code",
      "metadata": {
        "id": "R1w13xmftVHx",
        "colab_type": "code",
        "outputId": "316494e0-e42d-42a2-b76b-0a69a13cf201",
        "colab": {
          "base_uri": "https://localhost:8080/",
          "height": 153
        }
      },
      "source": [
        "State_labels[0],x_train.shape,params"
      ],
      "execution_count": 0,
      "outputs": [
        {
          "output_type": "execute_result",
          "data": {
            "text/plain": [
              "(array([1.+0.j, 0.+0.j]),\n",
              " (90, 3),\n",
              " array([[[0.54340494, 0.27836939, 0.42451759],\n",
              "         [0.84477613, 0.00471886, 0.12156912],\n",
              "         [0.67074908, 0.82585276, 0.13670659],\n",
              "         [0.57509333, 0.89132195, 0.20920212],\n",
              "         [0.18532822, 0.10837689, 0.21969749],\n",
              "         [0.97862378, 0.81168315, 0.17194101]]]))"
            ]
          },
          "metadata": {
            "tags": []
          },
          "execution_count": 7
        }
      ]
    },
    {
      "cell_type": "code",
      "metadata": {
        "id": "0tYP_dQSt6lm",
        "colab_type": "code",
        "colab": {}
      },
      "source": [
        "def circuit(params,X,State_labels=State_labels):\n",
        "\n",
        "    \"\"\"\n",
        "\n",
        "    this function takes 3 inputs:\n",
        "\n",
        "    params: array like that determines the number of qubits and the number of layers\n",
        "    X: a single sample that contains the features\n",
        "    State_labels: are the target states created from create_data()    \n",
        "    it returns the fidelities from the two target states in a list\n",
        "\n",
        "    \"\"\"\n",
        "\n",
        "\n",
        "    \n",
        "    n_qubits = len(params)\n",
        "    layers = len(params[0])\n",
        "    qc = QuantumCircuit(n_qubits)\n",
        "    \n",
        "    n_features = len(X)\n",
        "\n",
        "    for layer in range(layers):\n",
        "        \n",
        "        for qubit in range(n_qubits):\n",
        "           \n",
        "            for index in range(0,n_features,3):\n",
        "              qc.u3(X[index],X[index+1],X[index+2],qubit)\n",
        "              \n",
        "            qc.u3(params[qubit][layer][0],params[qubit][layer][1],params[qubit][layer][2],qubit)\n",
        "            \n",
        "        if n_qubits > 1 and (layer < layers-1):\n",
        "          qc.cz(0,1)\n",
        "                \n",
        "    backend_sim = Aer.get_backend('statevector_simulator')\n",
        "\n",
        "    job_sim = execute(qc, backend_sim)\n",
        "\n",
        "    result_sim = job_sim.result()\n",
        "    \n",
        "    state_vector = result_sim.get_statevector(qc)\n",
        "    fid_1 = state_fidelity(state_vector,State_labels[0])\n",
        "    fid_2 = state_fidelity(state_vector,State_labels[1])\n",
        "    #print(average_data(counts,vals))\n",
        "    return [fid_1,fid_2]"
      ],
      "execution_count": 0,
      "outputs": []
    },
    {
      "cell_type": "code",
      "metadata": {
        "id": "jwoKqroet6lu",
        "colab_type": "code",
        "colab": {}
      },
      "source": [
        "def cost(params,X,y,State_labels):\n",
        "    \"\"\"\n",
        "    params: array like that determines the number of qubits and the number of layers\n",
        "    \n",
        "    X: samples that contain the features\n",
        "    \n",
        "    y: are the labels for that sample    \n",
        "\n",
        "    State_labels: are the target states created from create_data()\n",
        "\n",
        "    this function returns the binary cross entropy cost from the computed fidelities and corresponding labels\n",
        "    \"\"\"\n",
        "    value = []\n",
        "    \n",
        "    for i in range(len(X)):\n",
        "        value.append(circuit(params,X[i],State_labels))\n",
        "\n",
        "    res = log_loss(y,value,labels=y_train)\n",
        "   # print(res)\n",
        "    return res\n",
        "        "
      ],
      "execution_count": 0,
      "outputs": []
    },
    {
      "cell_type": "code",
      "metadata": {
        "id": "i-ZRP66-t6lz",
        "colab_type": "code",
        "colab": {}
      },
      "source": [
        "def gradient(params,x,y,State_labels):\n",
        "    \"\"\"\n",
        "    this function computes the gradients for each varaible in the quantum circuit\n",
        "    it takes:\n",
        "    x: a single sample\n",
        "    y: the corresponding label\n",
        "    State_labels: are the target states created from create_data()\n",
        "    \"\"\"\n",
        "    g = np.zeros(params.shape)\n",
        "    \n",
        "    for qubit in range(len(params)):\n",
        "        \n",
        "        for layer in range(len(params[qubit])):\n",
        "            \n",
        "            for val in range(len(params[qubit][layer])):\n",
        "                \n",
        "        \n",
        "                params[qubit][layer][val] = params[qubit][layer][val]+np.pi/2\n",
        "                \n",
        "                F1 = cost(params,x,y,State_labels)\n",
        "                \n",
        "                params[qubit][layer][val] = params[qubit][layer][val]-np.pi/2\n",
        "                \n",
        "                \n",
        "                params[qubit][layer][val] = params[qubit][layer][val]-np.pi/2\n",
        "    \n",
        "                F2 = cost(params,x,y,State_labels)\n",
        "                \n",
        "                params[qubit][layer][val] = params[qubit][layer][val]+np.pi/2\n",
        "                \n",
        "                g[qubit][layer][val] = (F1-F2)/2\n",
        "    return g"
      ],
      "execution_count": 0,
      "outputs": []
    },
    {
      "cell_type": "code",
      "metadata": {
        "id": "E6eHULlEObkA",
        "colab_type": "code",
        "colab": {}
      },
      "source": [
        "def optimize(params,X,y,lr,State_labels):\n",
        "    \n",
        "    g = gradient(params,X,y,State_labels)\n",
        "    \n",
        "    new_weights = params - (lr*g)\n",
        "    \n",
        "    return new_weights"
      ],
      "execution_count": 0,
      "outputs": []
    },
    {
      "cell_type": "code",
      "metadata": {
        "id": "ZiISGCoOt6mD",
        "colab_type": "code",
        "colab": {}
      },
      "source": [
        "def predict(params,X):\n",
        "\n",
        "    \"\"\"\n",
        "    this function takes only the weights \"params\" and a single sample from the data\n",
        "\n",
        "    it returns a continous output ranging from 0 to 1. this requires rounding the output\n",
        "\n",
        "    \"\"\"\n",
        "\n",
        "    fid_1,fid_2 = circuit(params,X)\n",
        "\n",
        "\n",
        "    if fid_1 > fid_2:\n",
        "      \n",
        "      return abs(1-fid_1)\n",
        "    \n",
        "    else:\n",
        "\n",
        "      return fid_2\n",
        "    "
      ],
      "execution_count": 0,
      "outputs": []
    },
    {
      "cell_type": "code",
      "metadata": {
        "id": "Aup0YP-7t6mH",
        "colab_type": "code",
        "colab": {}
      },
      "source": [
        "np.random.seed(100) #to be reproducible \n",
        "#params = np.random.rand(1,6,3)\n",
        "weights = params\n",
        "loss = np.inf\n",
        "lr = 0.22\n",
        "test_loss = []\n",
        "epochs = 500\n",
        "batch_size = 20\n",
        "\n",
        "for it in range(epochs):\n",
        "\n",
        "\n",
        "    # create random indices every iteration \"stochastic gradient descent way not mini batch because of long time\" \n",
        "    index = np.random.randint(0,len(x_train),batch_size)\n",
        "    x_batch,y_batch = x_train[index],y_train[index]\n",
        "    # if you want to decay lr uncomment the following and edit it the way you want \n",
        "    #if i+1 == 500 or i+1 == 800:\n",
        "     #   lr = lr - 0.05\n",
        "    weights = optimize(weights,x_batch,y_batch,lr,State_labels)\n",
        "    \n",
        "    res = cost(weights,x_test,y_test,State_labels)\n",
        "    test_loss.append(res)\n",
        "\n",
        "    # save best weights based on testing portion of the data    \n",
        "    if res < loss:\n",
        "        loss = res\n",
        "        var = weights\n",
        "    print(\n",
        "        \"Epoch: {:2d} | testing loss: {:4f}\".format(it+1,res))"
      ],
      "execution_count": 0,
      "outputs": []
    },
    {
      "cell_type": "code",
      "metadata": {
        "id": "X6C-bIGvt6mN",
        "colab_type": "code",
        "outputId": "0fc9f4d8-b957-426c-cc8b-f15c12927ab3",
        "colab": {
          "base_uri": "https://localhost:8080/",
          "height": 279
        }
      },
      "source": [
        "plt.xlabel('no of epochs')\n",
        "plt.ylabel('test loss')\n",
        "plt.plot(range(len(test_loss)),test_loss)\n",
        "plt.show()"
      ],
      "execution_count": 0,
      "outputs": [
        {
          "output_type": "display_data",
          "data": {
            "image/png": "[encoded data removed]",
            "text/plain": [
              "<Figure size 432x288 with 1 Axes>"
            ]
          },
          "metadata": {
            "tags": []
          }
        }
      ]
    },
    {
      "cell_type": "code",
      "metadata": {
        "id": "ca3cohkSfgPc",
        "colab_type": "code",
        "colab": {}
      },
      "source": [
        "r = np.load('best-weights.npy')\n",
        "#print(var.shape)\n",
        "pred = []\n",
        "for j in range(len(x_train)):\n",
        "    pred.append(predict(r,x_train[j]))\n"
      ],
      "execution_count": 0,
      "outputs": []
    },
    {
      "cell_type": "code",
      "metadata": {
        "id": "0glM2gtzt6mX",
        "colab_type": "code",
        "outputId": "3a19dc4f-3258-4dbc-e7f6-8aad8161801f",
        "colab": {
          "base_uri": "https://localhost:8080/",
          "height": 187
        }
      },
      "source": [
        "print(accuracy_score(np.array(pred).round(),y_train))\n",
        "print(classification_report(np.array(pred).round(),y_train))"
      ],
      "execution_count": 0,
      "outputs": [
        {
          "output_type": "stream",
          "text": [
            "1.0\n",
            "              precision    recall  f1-score   support\n",
            "\n",
            "         0.0       1.00      1.00      1.00       405\n",
            "         1.0       1.00      1.00      1.00       405\n",
            "\n",
            "    accuracy                           1.00       810\n",
            "   macro avg       1.00      1.00      1.00       810\n",
            "weighted avg       1.00      1.00      1.00       810\n",
            "\n"
          ],
          "name": "stdout"
        }
      ]
    },
    {
      "cell_type": "code",
      "metadata": {
        "id": "t7cd2GWBt6mb",
        "colab_type": "code",
        "colab": {}
      },
      "source": [
        "xx, yy = np.meshgrid(np.linspace(-2, 2, 50), np.linspace(-2, 2, 50))\n",
        "X_grid = [np.array([x, y]) for x, y in zip(xx.flatten(), yy.flatten())]\n",
        "X_grid = np.hstack((X_grid,np.zeros(len(X_grid)).reshape(-1,1)))\n",
        "predictions_grid = [predict(r, x) for x in X_grid]"
      ],
      "execution_count": 0,
      "outputs": []
    },
    {
      "cell_type": "code",
      "metadata": {
        "id": "Mfh2Yubat6mg",
        "colab_type": "code",
        "outputId": "b9748436-88ab-4325-ab69-519dfd25cce8",
        "colab": {
          "base_uri": "https://localhost:8080/",
          "height": 269
        }
      },
      "source": [
        "Z = np.reshape(np.array(predictions_grid).round(), xx.shape)\n",
        "cm = plt.cm.RdBu\n",
        "cnt = plt.contourf(xx, yy, Z, levels=np.arange(0., 1.1, 0.1), cmap=cm, alpha=.8)\n",
        "plt.colorbar(cnt, ticks=[0, 0.5, 1])\n",
        "plt.scatter(x_train[:, 0][y_train==0], x_train[:, 1][y_train==0], c='g', marker='^', edgecolors='k',label='train 0')\n",
        "plt.scatter(x_train[:, 0][y_train==1], x_train[:, 1][y_train==1], c='b', marker='*', edgecolors='k',label='train 1')\n",
        "plt.scatter(x_test[:, 0][y_test==0], x_test[:, 1][y_test==0], c='r', marker='+', edgecolors='k',label='test 0')\n",
        "plt.scatter(x_test[:, 0][y_test==1], x_test[:, 1][y_test==1], c='yellow', marker='x', edgecolors='k',label='test 1')\n",
        "\n",
        "plt.ylim(-1.07, 1.07)\n",
        "plt.xlim(-1.07, 1.07)\n",
        "plt.legend()\n",
        "plt.savefig('decision_b.png',dpi=700)\n",
        "plt.show()\n"
      ],
      "execution_count": 0,
      "outputs": [
        {
          "output_type": "display_data",
          "data": {
            "image/png": "[encoded data removed]",
            "text/plain": [
              "<Figure size 432x288 with 2 Axes>"
            ]
          },
          "metadata": {
            "tags": []
          }
        }
      ]
    },
    {
      "cell_type": "code",
      "metadata": {
        "id": "T4YjYrxbziMy",
        "colab_type": "code",
        "outputId": "345a2b1a-7ec0-409f-e37b-721c9ae0eba0",
        "colab": {
          "base_uri": "https://localhost:8080/",
          "height": 34
        }
      },
      "source": [
        "var[0][0]"
      ],
      "execution_count": 0,
      "outputs": [
        {
          "output_type": "execute_result",
          "data": {
            "text/plain": [
              "array([1.13449496, 0.28881491, 1.41365572])"
            ]
          },
          "metadata": {
            "tags": []
          },
          "execution_count": 175
        }
      ]
    },
    {
      "cell_type": "code",
      "metadata": {
        "id": "Tf9AeMAPOly4",
        "colab_type": "code",
        "outputId": "af6fbff9-29b8-4b0b-e4b6-90476cb0212a",
        "colab": {
          "base_uri": "https://localhost:8080/",
          "height": 221
        }
      },
      "source": [
        "for i in range(len(var)):\n",
        "  for id,j in enumerate(params[i]):\n",
        "    print(id)\n",
        "    print(j)"
      ],
      "execution_count": 0,
      "outputs": [
        {
          "output_type": "stream",
          "text": [
            "0\n",
            "[0.8734294  0.96854066 0.86919454]\n",
            "1\n",
            "[0.53085569 0.23272833 0.0113988 ]\n",
            "2\n",
            "[0.43046882 0.40235136 0.52267467]\n",
            "3\n",
            "[0.4783918  0.55535647 0.54338602]\n",
            "4\n",
            "[0.76089558 0.71237457 0.6196821 ]\n",
            "5\n",
            "[0.42609177 0.28907503 0.97385524]\n"
          ],
          "name": "stdout"
        }
      ]
    },
    {
      "cell_type": "code",
      "metadata": {
        "id": "8RyQ36l1O4k6",
        "colab_type": "code",
        "outputId": "7fd248f9-b017-4138-8754-f849445107ad",
        "colab": {
          "base_uri": "https://localhost:8080/",
          "height": 119
        }
      },
      "source": [
        "for layer in range(len(var[0])):\n",
        "  for qubit in range(1):\n",
        "    print(var[qubit][layer])"
      ],
      "execution_count": 0,
      "outputs": [
        {
          "output_type": "stream",
          "text": [
            "[1.13449496 0.28881491 1.41365572]\n",
            "[ 1.04005053  1.11646599 -1.71870497]\n",
            "[ 0.23246252 -0.40714122  0.48893466]\n",
            "[ 1.21158487  0.71205549 -0.76677812]\n",
            "[ 2.46779094 -0.92909167 -0.34517346]\n",
            "[-0.45782809  0.81168315 -0.0658338 ]\n"
          ],
          "name": "stdout"
        }
      ]
    },
    {
      "cell_type": "code",
      "metadata": {
        "id": "i-iV13zQPKog",
        "colab_type": "code",
        "outputId": "0fccf294-c5cd-474a-d413-bba5557b4c7d",
        "colab": {
          "base_uri": "https://localhost:8080/",
          "height": 34
        }
      },
      "source": [
        "len(params[0])"
      ],
      "execution_count": 0,
      "outputs": [
        {
          "output_type": "execute_result",
          "data": {
            "text/plain": [
              "6"
            ]
          },
          "metadata": {
            "tags": []
          },
          "execution_count": 184
        }
      ]
    },
    {
      "cell_type": "code",
      "metadata": {
        "id": "EN4nOM-6PYGO",
        "colab_type": "code",
        "outputId": "b38e0856-0b2c-4f09-c32f-e2cf1b82167c",
        "colab": {
          "base_uri": "https://localhost:8080/",
          "height": 119
        }
      },
      "source": [
        "var"
      ],
      "execution_count": 0,
      "outputs": [
        {
          "output_type": "execute_result",
          "data": {
            "text/plain": [
              "array([[[ 1.13449496,  0.28881491,  1.41365572],\n",
              "        [ 1.04005053,  1.11646599, -1.71870497],\n",
              "        [ 0.23246252, -0.40714122,  0.48893466],\n",
              "        [ 1.21158487,  0.71205549, -0.76677812],\n",
              "        [ 2.46779094, -0.92909167, -0.34517346],\n",
              "        [-0.45782809,  0.81168315, -0.0658338 ]]])"
            ]
          },
          "metadata": {
            "tags": []
          },
          "execution_count": 53
        }
      ]
    },
    {
      "cell_type": "code",
      "metadata": {
        "id": "D-rwpjwHmbGK",
        "colab_type": "code",
        "outputId": "f859bfd5-0814-4a11-bada-248fa89d2f47",
        "colab": {
          "base_uri": "https://localhost:8080/",
          "height": 1000
        }
      },
      "source": [
        "test_loss"
      ],
      "execution_count": 0,
      "outputs": [
        {
          "output_type": "execute_result",
          "data": {
            "text/plain": [
              "[0.5971723090757349,\n",
              " 0.5496168490632055,\n",
              " 0.5228793776906644,\n",
              " 0.4481700718755274,\n",
              " 0.4259143512812901,\n",
              " 0.4338913770376808,\n",
              " 0.399064382826905,\n",
              " 0.3560950742042638,\n",
              " 0.34068588020717994,\n",
              " 0.3205501513002052,\n",
              " 0.3170218071577454,\n",
              " 0.30577690370054356,\n",
              " 0.2995499017989972,\n",
              " 0.296073343045529,\n",
              " 0.304508933326127,\n",
              " 0.3078449351325675,\n",
              " 0.29564468903901464,\n",
              " 0.30183786999918294,\n",
              " 0.2987986301993505,\n",
              " 0.2904842366639304,\n",
              " 0.29971737352012445,\n",
              " 0.3468285702035683,\n",
              " 0.2875251600126019,\n",
              " 0.28722681517290816,\n",
              " 0.2922463048330996,\n",
              " 0.3097253075161831,\n",
              " 0.2848941122400038,\n",
              " 0.27244926174127915,\n",
              " 0.27881976043449924,\n",
              " 0.261976703499792,\n",
              " 0.26095379696508336,\n",
              " 0.2765577200767797,\n",
              " 0.26587061457565075,\n",
              " 0.2518692992677928,\n",
              " 0.25278524084444304,\n",
              " 0.25373166615231246,\n",
              " 0.26662136282969345,\n",
              " 0.2501264985893572,\n",
              " 0.2368209776770082,\n",
              " 0.2406497889613525,\n",
              " 0.23388319848477196,\n",
              " 0.23002918401960315,\n",
              " 0.24376473863939546,\n",
              " 0.2513305437298866,\n",
              " 0.23169997343751825,\n",
              " 0.21893981554871272,\n",
              " 0.22091703867460283,\n",
              " 0.21593306162544504,\n",
              " 0.20732102524068924,\n",
              " 0.20629553977570464,\n",
              " 0.20586971161639694,\n",
              " 0.20020443821038358,\n",
              " 0.20630918675322052,\n",
              " 0.20872002268692266,\n",
              " 0.19862398932667963,\n",
              " 0.19673623501509668,\n",
              " 0.19115665319579997,\n",
              " 0.18839373625048142,\n",
              " 0.18811815309648644,\n",
              " 0.188265624211193,\n",
              " 0.18382651181635767,\n",
              " 0.18128835068677765,\n",
              " 0.19440354946294808,\n",
              " 0.1954660756860041,\n",
              " 0.1847963787090977,\n",
              " 0.17511370839695872,\n",
              " 0.17621889310679711,\n",
              " 0.18252659996723836,\n",
              " 0.1822984630986566,\n",
              " 0.17231158489291482,\n",
              " 0.18229251503186944,\n",
              " 0.17173188350705001,\n",
              " 0.16529068110149595,\n",
              " 0.1613236523130284,\n",
              " 0.16170826831571472,\n",
              " 0.15980681228083624,\n",
              " 0.16759564324708082,\n",
              " 0.18304271703482067,\n",
              " 0.15930382138423582,\n",
              " 0.15852040341208026,\n",
              " 0.15900821380842906,\n",
              " 0.1623274847013067,\n",
              " 0.15908712957379428,\n",
              " 0.15319937760881627,\n",
              " 0.1517431878236588,\n",
              " 0.15086944170161803,\n",
              " 0.15679814516601479,\n",
              " 0.1546650968318258,\n",
              " 0.15250071180951721,\n",
              " 0.14425025743459152,\n",
              " 0.14209656417369174,\n",
              " 0.1454047341579851,\n",
              " 0.14149740613605927,\n",
              " 0.14254067912849464,\n",
              " 0.14626420656852307,\n",
              " 0.14309969105609205,\n",
              " 0.14770389718268678,\n",
              " 0.1564166975498496,\n",
              " 0.16131961301329176,\n",
              " 0.16068939757020734,\n",
              " 0.1555111005176847,\n",
              " 0.16891834563975106,\n",
              " 0.18426354692684538,\n",
              " 0.1511941376984483,\n",
              " 0.1528776074029675,\n",
              " 0.1367459699176142,\n",
              " 0.13797707762066053,\n",
              " 0.13743406733389618,\n",
              " 0.14608348473688829,\n",
              " 0.13497999383503823,\n",
              " 0.13969985436891705,\n",
              " 0.13503815242356315,\n",
              " 0.14177827881217375,\n",
              " 0.14136421780019567,\n",
              " 0.13642632341647215,\n",
              " 0.14153015331501578,\n",
              " 0.14669927313144865,\n",
              " 0.13778612998687306,\n",
              " 0.1325425033392144,\n",
              " 0.14300110844496175,\n",
              " 0.13677550370879604,\n",
              " 0.13822829675301318,\n",
              " 0.13563790130375689,\n",
              " 0.1392301444975908,\n",
              " 0.1388961983422122,\n",
              " 0.13818006984402328,\n",
              " 0.1360426810017616,\n",
              " 0.14430395222812675,\n",
              " 0.1372835100607666,\n",
              " 0.13427011770968705,\n",
              " 0.1305356872492399,\n",
              " 0.13084664283122696,\n",
              " 0.13296128928635617,\n",
              " 0.13667579320962614,\n",
              " 0.14199799239946406,\n",
              " 0.14544424483109664,\n",
              " 0.1414129678062883,\n",
              " 0.14562009064151302,\n",
              " 0.15236492448851408,\n",
              " 0.14080762110527262,\n",
              " 0.12643684078106618,\n",
              " 0.12620696430877634,\n",
              " 0.12852930482268846,\n",
              " 0.1280081113506392,\n",
              " 0.1288502448492612,\n",
              " 0.12715386209940424,\n",
              " 0.12711522861699004,\n",
              " 0.1257527248225066,\n",
              " 0.13101352486445852,\n",
              " 0.1277346446889511,\n",
              " 0.13500981382518912,\n",
              " 0.13200133068657188,\n",
              " 0.13779734258351115,\n",
              " 0.12872945625106552,\n",
              " 0.13321007324411413,\n",
              " 0.12989448058404157,\n",
              " 0.12607896410464423,\n",
              " 0.12547258032801617,\n",
              " 0.13035134909651735,\n",
              " 0.12807080299444856,\n",
              " 0.12755205398654987,\n",
              " 0.12578619782671507,\n",
              " 0.14116702556209254,\n",
              " 0.14511905622403204,\n",
              " 0.12513721250815374,\n",
              " 0.12432601221668785,\n",
              " 0.1274209925064547,\n",
              " 0.13147154666400626,\n",
              " 0.12859819821731033,\n",
              " 0.1400086675277068,\n",
              " 0.1315895554316219,\n",
              " 0.1374325521276818,\n",
              " 0.1264817741870873,\n",
              " 0.14754718299246766,\n",
              " 0.12383068444321241,\n",
              " 0.11982100527027006,\n",
              " 0.12106818370714685,\n",
              " 0.12809514802713284,\n",
              " 0.12233823768723968,\n",
              " 0.13293004732376995,\n",
              " 0.12901908077058133,\n",
              " 0.12226166005989807,\n",
              " 0.1364241017512211,\n",
              " 0.14130517000678164,\n",
              " 0.12609297353482002,\n",
              " 0.11959119787572195,\n",
              " 0.1204002820539013,\n",
              " 0.12565673497530827,\n",
              " 0.13293463934078048,\n",
              " 0.12295047735356071,\n",
              " 0.12364691431602697,\n",
              " 0.1348974760587321,\n",
              " 0.1266616465285378,\n",
              " 0.14040047178596604,\n",
              " 0.12004402707415089,\n",
              " 0.1258083086342469,\n",
              " 0.13827612936028993,\n",
              " 0.1150071329010485,\n",
              " 0.11790798468382431,\n",
              " 0.12174668719695905,\n",
              " 0.1207940361567715,\n",
              " 0.12870524674193093,\n",
              " 0.13483356886485018,\n",
              " 0.12557545145469906,\n",
              " 0.13178177775762143,\n",
              " 0.11836123658426896,\n",
              " 0.11546316378689059,\n",
              " 0.13984843517018533,\n",
              " 0.13470965439310717,\n",
              " 0.12867041216188335,\n",
              " 0.12435506220740104,\n",
              " 0.12643811748377845,\n",
              " 0.12316383788581416,\n",
              " 0.12168102769468421,\n",
              " 0.1296925480356673,\n",
              " 0.12420059716237575,\n",
              " 0.11103644230059903,\n",
              " 0.12200815523615878,\n",
              " 0.11106040327234504,\n",
              " 0.1178203805476542,\n",
              " 0.11482522668566823,\n",
              " 0.12359225224806791,\n",
              " 0.11472700460736776,\n",
              " 0.12298108352498935,\n",
              " 0.13302822902259342,\n",
              " 0.10725182545851512,\n",
              " 0.10813911171378435,\n",
              " 0.1078143290673768,\n",
              " 0.11459552111649007,\n",
              " 0.10548272455024754,\n",
              " 0.11306918008058967,\n",
              " 0.11932486532777431,\n",
              " 0.11380470353168623,\n",
              " 0.11510255542971806,\n",
              " 0.11496204548611541,\n",
              " 0.1151703409750133,\n",
              " 0.11913295168457008,\n",
              " 0.13332546886661464,\n",
              " 0.1225024035620725,\n",
              " 0.10572851383917622,\n",
              " 0.11568818623419812,\n",
              " 0.12636944476757123,\n",
              " 0.12817149228645966,\n",
              " 0.12998314719100953,\n",
              " 0.10655839463801134,\n",
              " 0.10200146843587907,\n",
              " 0.10089475767689167,\n",
              " 0.10024661220586942,\n",
              " 0.11305323481411225,\n",
              " 0.10380178425903344,\n",
              " 0.12135909931950747,\n",
              " 0.11336020135938359,\n",
              " 0.12204320910909905,\n",
              " 0.126291798242652,\n",
              " 0.1247478639398931,\n",
              " 0.11151145539490463,\n",
              " 0.1081392186564851,\n",
              " 0.11470206859033354,\n",
              " 0.11231440552341287,\n",
              " 0.11082521938466283,\n",
              " 0.11574736944372635,\n",
              " 0.10569020018977208,\n",
              " 0.10364770632367948,\n",
              " 0.10514415488506863,\n",
              " 0.10268141555107506,\n",
              " 0.09686763547687637,\n",
              " 0.09522917421191891,\n",
              " 0.1015309334406103,\n",
              " 0.10281749091251571,\n",
              " 0.09948566448890858,\n",
              " 0.10755718322935608,\n",
              " 0.10516889053580662,\n",
              " 0.1104391829470505,\n",
              " 0.11101814612852035,\n",
              " 0.1045381998709148,\n",
              " 0.10564897782190545,\n",
              " 0.11830488964323811,\n",
              " 0.11533714847194802,\n",
              " 0.09793427244481334,\n",
              " 0.0970404712431032,\n",
              " 0.09384068640207832,\n",
              " 0.09984287827411106,\n",
              " 0.0978307911180192,\n",
              " 0.09898117436128089,\n",
              " 0.1100217985935494,\n",
              " 0.0981099460694316,\n",
              " 0.10329835557650184,\n",
              " 0.09322047232623785,\n",
              " 0.09805007486932166,\n",
              " 0.09548354386560462,\n",
              " 0.09696342544185732,\n",
              " 0.09304649299763709,\n",
              " 0.09711184375063325,\n",
              " 0.09313003179737801,\n",
              " 0.09828370604295408,\n",
              " 0.09430924270489015,\n",
              " 0.09399503247985108,\n",
              " 0.09023655323696492,\n",
              " 0.09310330137379205,\n",
              " 0.10109779785321235,\n",
              " 0.08989201481908674,\n",
              " 0.08561416852133809,\n",
              " 0.08484480663662856,\n",
              " 0.08903596519596757,\n",
              " 0.08737560278016973,\n",
              " 0.09005563661015568,\n",
              " 0.09556328802377151,\n",
              " 0.09038014507156819,\n",
              " 0.08779713076633452,\n",
              " 0.09132836481171827,\n",
              " 0.09870835207385431,\n",
              " 0.09556680306259648,\n",
              " 0.08814094594839011,\n",
              " 0.08988094368034308,\n",
              " 0.0913426187423552,\n",
              " 0.09112750943271623,\n",
              " 0.0961084845427346,\n",
              " 0.09738647725389075,\n",
              " 0.0874741467113174,\n",
              " 0.09911310380254482,\n",
              " 0.0865163476981415,\n",
              " 0.0848533802325054,\n",
              " 0.0941665513557113,\n",
              " 0.08885408152075588,\n",
              " 0.09808979709417767,\n",
              " 0.10151321528450344,\n",
              " 0.09658513430768823,\n",
              " 0.09409919776166252,\n",
              " 0.0954785811361433,\n",
              " 0.10433756358450548,\n",
              " 0.09469723575341468,\n",
              " 0.10259051871908101,\n",
              " 0.09606191908026619,\n",
              " 0.09777373646196554,\n",
              " 0.09186044525343481,\n",
              " 0.08532135847588065,\n",
              " 0.09798895249468655,\n",
              " 0.08092416184255016,\n",
              " 0.08123874119318528,\n",
              " 0.09256412216640922,\n",
              " 0.08271428078756099,\n",
              " 0.08863641356393626,\n",
              " 0.09777135129663418,\n",
              " 0.08631282188809583,\n",
              " 0.09050674548029448,\n",
              " 0.09155249219011093,\n",
              " 0.08482775027957835,\n",
              " 0.09645195177647162,\n",
              " 0.09599556448490162,\n",
              " 0.09316933951877024,\n",
              " 0.08039157177502287,\n",
              " 0.08326136061508685,\n",
              " 0.08225963126708893]"
            ]
          },
          "metadata": {
            "tags": []
          },
          "execution_count": 62
        }
      ]
    },
    {
      "cell_type": "code",
      "metadata": {
        "id": "WFwIllBhmzrI",
        "colab_type": "code",
        "colab": {}
      },
      "source": [
        ""
      ],
      "execution_count": 0,
      "outputs": []
    }
  ]
}
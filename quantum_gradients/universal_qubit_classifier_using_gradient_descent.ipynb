{
  "nbformat": 4,
  "nbformat_minor": 0,
  "metadata": {
    "kernelspec": {
      "name": "python3",
      "display_name": "Python 3"
    },
    "language_info": {
      "codemirror_mode": {
        "name": "ipython",
        "version": 3
      },
      "file_extension": ".py",
      "mimetype": "text/x-python",
      "name": "python",
      "nbconvert_exporter": "python",
      "pygments_lexer": "ipython3",
      "version": "3.6.9"
    },
    "colab": {
      "name": "universal_qubit_classifier_gradient_descent.ipynb",
      "provenance": []
    },
    "accelerator": "GPU"
  },
  "cells": [
    {
      "cell_type": "code",
      "metadata": {
        "id": "WQG-l10Nt7uR",
        "colab_type": "code",
        "colab": {
          "base_uri": "https://localhost:8080/",
          "height": 323
        },
        "outputId": "c623c982-d1ad-4618-e57a-3a09763a7b23"
      },
      "source": [
        "!pip install qiskit -q --upgrade"
      ],
      "execution_count": 2,
      "outputs": [
        {
          "output_type": "stream",
          "text": [
            "\u001b[K     |████████████████████████████████| 2.7MB 9.3MB/s \n",
            "\u001b[K     |████████████████████████████████| 18.2MB 130kB/s \n",
            "\u001b[K     |████████████████████████████████| 92kB 13.3MB/s \n",
            "\u001b[K     |████████████████████████████████| 102kB 17.0MB/s \n",
            "\u001b[K     |████████████████████████████████| 1.4MB 61.7MB/s \n",
            "\u001b[K     |████████████████████████████████| 51kB 10.0MB/s \n",
            "\u001b[K     |████████████████████████████████| 5.6MB 29.0MB/s \n",
            "\u001b[K     |████████████████████████████████| 51kB 9.2MB/s \n",
            "\u001b[K     |████████████████████████████████| 71kB 12.5MB/s \n",
            "\u001b[K     |████████████████████████████████| 573kB 52.7MB/s \n",
            "\u001b[K     |████████████████████████████████| 24.3MB 1.3MB/s \n",
            "\u001b[K     |████████████████████████████████| 2.3MB 60.5MB/s \n",
            "\u001b[?25h  Building wheel for qiskit (setup.py) ... \u001b[?25l\u001b[?25hdone\n",
            "  Building wheel for marshmallow-polyfield (setup.py) ... \u001b[?25l\u001b[?25hdone\n",
            "  Building wheel for dlx (setup.py) ... \u001b[?25l\u001b[?25hdone\n",
            "  Building wheel for docplex (setup.py) ... \u001b[?25l\u001b[?25hdone\n",
            "  Building wheel for inflection (setup.py) ... \u001b[?25l\u001b[?25hdone\n",
            "  Building wheel for docloud (setup.py) ... \u001b[?25l\u001b[?25hdone\n"
          ],
          "name": "stdout"
        }
      ]
    },
    {
      "cell_type": "code",
      "metadata": {
        "id": "Ho8wC0k-t6lS",
        "colab_type": "code",
        "colab": {}
      },
      "source": [
        "from qiskit import QuantumCircuit, QuantumRegister, ClassicalRegister\n",
        "from qiskit import *\n",
        "from qiskit.quantum_info.analysis import average_data\n",
        "from qiskit.quantum_info import state_fidelity\n",
        "from sklearn.metrics import accuracy_score,log_loss,confusion_matrix,classification_report\n",
        "import numpy as np\n",
        "from tqdm import tqdm \n",
        "from sklearn.datasets import make_moons\n",
        "from sklearn.model_selection import train_test_split\n",
        "from sklearn.preprocessing import MinMaxScaler\n",
        "import matplotlib.pylab as plt"
      ],
      "execution_count": 0,
      "outputs": []
    },
    {
      "cell_type": "code",
      "metadata": {
        "id": "1PDmIbXNpLXH",
        "colab_type": "code",
        "colab": {}
      },
      "source": [
        "n_qubits = 2\n",
        "layers = 5\n",
        "n_samples = 800"
      ],
      "execution_count": 0,
      "outputs": []
    },
    {
      "cell_type": "code",
      "metadata": {
        "id": "s9MCEuuYpLOw",
        "colab_type": "code",
        "colab": {}
      },
      "source": [
        "def cerate_data(n_qubits,layers,dataset_name,n_samples,test_size = 0.1,plot=True,normalize=True):\n",
        "\n",
        "  \"\"\"\n",
        "  this fucntion takes 4 main inputs:\n",
        "  n_qubits: int 1,....,n\n",
        "  layers: int 1,....,n\n",
        "  dataset_name: str like 'moons'\n",
        "  n_samples: int 2,......,n\n",
        "  test_size: float between 0 and 1\n",
        "\n",
        "  it returns the training and the testing dataset with their labels and also the \n",
        "  corrosponding target states and also the weights for training the classifier\n",
        "  \"\"\"\n",
        "\n",
        "  # creating circles dataset taken from: https://github.com/AdrianPerezSalinas/universal_qlassifier/blob/master/data_gen.py\n",
        "\n",
        "  def _circle(n_samples):\n",
        "    centers = np.array([[0, 0]])\n",
        "    radii = np.array([np.sqrt(1.8/np.pi)])\n",
        "    data=[]\n",
        "    dim = 2\n",
        "    labels=[]\n",
        "    np.random.seed(1000)\n",
        "    for i in range(samples):\n",
        "        x = 2 * (np.random.rand(dim)) - 1\n",
        "        y = 0\n",
        "        for c, r in zip(centers, radii):  \n",
        "            if np.linalg.norm(x - c) < r:\n",
        "                y = 1 \n",
        "\n",
        "        data.append(x)\n",
        "        labels.append(y)\n",
        "            \n",
        "    return np.array(data), np.array(labels)\n",
        "\n",
        "  if dataset_name.lower() == 'moons':\n",
        "    data,labels = make_moons(n_samples=n_samples,random_state=0,noise=0.04)\n",
        "  \n",
        "  if dataset_name.lower() == 'circles':\n",
        "    data,labels = _circle(n_samples)\n",
        "\n",
        "  x_train,x_test,y_train,y_test = train_test_split(data,labels,stratify=labels,test_size=test_size,random_state=0) # splitting data evenly\n",
        "\n",
        "  if normalize: # scale features  [-1:1]\n",
        "\n",
        "    if len(x_train.shape) == 1: #check for dimension to prevent any error from scaling\n",
        "      x_train = x_train.reshape(-1,1)\n",
        "      x_test = x_test.reshape(-1,1)\n",
        "\n",
        "    scale = MinMaxScaler(feature_range=(-1,1)).fit(x_train)\n",
        "    x_train = scale.transform(x_train)\n",
        "    x_test = scale.transform(x_test)\n",
        "  \n",
        "  #check features' dimensions and make it 3 or its multiples\n",
        "  if len(x_train)<3 or len(x_train) > 6:\n",
        "\n",
        "    if x_train.shape[1] == 2:\n",
        "\n",
        "      x_train = np.hstack((x_train,np.zeros(len(x_train)).reshape(-1,1)))\n",
        "      x_test = np.hstack((x_test,np.zeros(len(x_test)).reshape(-1,1)))\n",
        "\n",
        "    if x_train.shape[1] == 1:\n",
        "      \n",
        "      x_train = np.hstack((x_train,np.zeros(len(x_train)).reshape(-1,1),np.zeros(len(x_train)).reshape(-1,1)))\n",
        "      x_test = np.hstack((x_test,np.zeros(len(x_test)).reshape(-1,1),np.zeros(len(x_test)).reshape(-1,1)))\n",
        "    \n",
        "    if x_train.shape[1] == 4:\n",
        "      \n",
        "      x_train = np.hstack((x_train,np.zeros(len(x_train)).reshape(-1,1),np.zeros(len(x_train)).reshape(-1,1)))\n",
        "      x_test = np.hstack((x_test,np.zeros(len(x_test)).reshape(-1,1),np.zeros(len(x_test)).reshape(-1,1)))\n",
        "\n",
        "    if x_train.shape[1] == 5:\n",
        "\n",
        "      x_train = np.hstack((x_train,np.zeros(len(x_train)).reshape(-1,1)))\n",
        "      x_test = np.hstack((x_test,np.zeros(len(x_test)).reshape(-1,1)))\n",
        "    if x_train.shape[1] > 6:\n",
        "      raise ValueError(\"please create a dataset whose number of features are divisible by 3 as there is no checking mechanisim implemented for values bigger than 6\")\n",
        "\n",
        "  # prepare target states based on number of labels, currently only two-label is implemented\n",
        "\n",
        "  n_of_labels = len(np.unique(labels))\n",
        "\n",
        "  state_labels = np.zeros((n_of_labels,2**n_qubits),dtype=np.complex128)\n",
        "\n",
        "  if n_of_labels == 2:\n",
        "    state_labels[0,0] = 1\n",
        "    if n_qubits > 1:\n",
        "      state_labels[-1] = -1/np.sqrt(2)\n",
        "    else:\n",
        "      state_labels[-1,-1] = 1\n",
        "\n",
        "\n",
        "  # initialize weights  \n",
        "  np.random.seed(100) #to make results reproducible\n",
        "  weights = np.random.rand(n_qubits,layers,3)\n",
        "  \n",
        "  if plot:\n",
        "    plt.scatter(x_train[:,0][y_train==0], x_train[:,1][y_train==0], marker='o', \n",
        "                color='red', label='class 0')\n",
        "    plt.scatter(x_train[:,0][y_train==1], x_train[:,1][y_train==1], marker='*', \n",
        "                color='blue', label='class 1')\n",
        "    plt.legend()\n",
        "    plt.show()\n",
        "\n",
        "  return (x_train,y_train),(x_test,y_test),state_labels,weights\n"
      ],
      "execution_count": 0,
      "outputs": []
    },
    {
      "cell_type": "code",
      "metadata": {
        "id": "fs7DQkwIsQN-",
        "colab_type": "code",
        "colab": {
          "base_uri": "https://localhost:8080/",
          "height": 265
        },
        "outputId": "47b96fb1-260a-4eb0-d554-17716da34df2"
      },
      "source": [
        "(x_train,y_train),(x_test,y_test),State_labels,params = cerate_data(1,6,'moons',200,test_size=0.1)"
      ],
      "execution_count": 24,
      "outputs": [
        {
          "output_type": "display_data",
          "data": {
            "image/png": "[encoded data removed]",
            "text/plain": [
              "<Figure size 432x288 with 1 Axes>"
            ]
          },
          "metadata": {
            "tags": []
          }
        }
      ]
    },
    {
      "cell_type": "code",
      "metadata": {
        "id": "R1w13xmftVHx",
        "colab_type": "code",
        "colab": {
          "base_uri": "https://localhost:8080/",
          "height": 153
        },
        "outputId": "6235d826-58bb-4742-8df6-2a3f42238c34"
      },
      "source": [
        "State_labels[0],x_train.shape,params"
      ],
      "execution_count": 25,
      "outputs": [
        {
          "output_type": "execute_result",
          "data": {
            "text/plain": [
              "(array([1.+0.j, 0.+0.j]),\n",
              " (180, 3),\n",
              " array([[[0.54340494, 0.27836939, 0.42451759],\n",
              "         [0.84477613, 0.00471886, 0.12156912],\n",
              "         [0.67074908, 0.82585276, 0.13670659],\n",
              "         [0.57509333, 0.89132195, 0.20920212],\n",
              "         [0.18532822, 0.10837689, 0.21969749],\n",
              "         [0.97862378, 0.81168315, 0.17194101]]]))"
            ]
          },
          "metadata": {
            "tags": []
          },
          "execution_count": 25
        }
      ]
    },
    {
      "cell_type": "code",
      "metadata": {
        "id": "0tYP_dQSt6lm",
        "colab_type": "code",
        "colab": {}
      },
      "source": [
        "def circuit(params,X,State_labels=State_labels):\n",
        "\n",
        "    \"\"\"\n",
        "\n",
        "    this function takes 3 inputs:\n",
        "\n",
        "    params: array like that determines the number of qubits and the number of layers\n",
        "    X: a single sample that contains the features\n",
        "    State_labels: are the target states created from create_data()    \n",
        "    it returns the fidelities from the two target states in a list\n",
        "\n",
        "    \"\"\"\n",
        "\n",
        "\n",
        "    \n",
        "    n_qubits = len(params)\n",
        "    layers = len(params[0])\n",
        "    qc = QuantumCircuit(n_qubits)\n",
        "    \n",
        "    n_features = len(X)\n",
        "\n",
        "    for layer in range(layers):\n",
        "        \n",
        "        for qubit in range(n_qubits):\n",
        "           \n",
        "            for index in range(0,n_features,3):\n",
        "              qc.u3(X[index],X[index+1],X[index+2],qubit)\n",
        "              \n",
        "            qc.u3(params[qubit][layer][0],params[qubit][layer][1],params[qubit][layer][2],qubit)\n",
        "            \n",
        "        if n_qubits > 1 and (layer < layers-1):\n",
        "          qc.cz(0,1)\n",
        "                \n",
        "    backend_sim = Aer.get_backend('statevector_simulator')\n",
        "\n",
        "    job_sim = execute(qc, backend_sim)\n",
        "\n",
        "    result_sim = job_sim.result()\n",
        "    \n",
        "    state_vector = result_sim.get_statevector(qc)\n",
        "    fid_1 = state_fidelity(state_vector,State_labels[0])\n",
        "    fid_2 = state_fidelity(state_vector,State_labels[1])\n",
        "    #print(average_data(counts,vals))\n",
        "    return [fid_1,fid_2]"
      ],
      "execution_count": 0,
      "outputs": []
    },
    {
      "cell_type": "code",
      "metadata": {
        "id": "jwoKqroet6lu",
        "colab_type": "code",
        "colab": {}
      },
      "source": [
        "def cost(params,X,y,State_labels):\n",
        "    \"\"\"\n",
        "    params: array like that determines the number of qubits and the number of layers\n",
        "    \n",
        "    X: samples that contain the features\n",
        "    \n",
        "    y: are the labels for that sample    \n",
        "\n",
        "    State_labels: are the target states created from create_data()\n",
        "\n",
        "    this function returns the binary cross entropy cost from the computed fidelities and corresponding labels\n",
        "    \"\"\"\n",
        "    value = []\n",
        "    \n",
        "    for i in range(len(X)):\n",
        "        value.append(circuit(params,X[i],State_labels))\n",
        "\n",
        "    res = log_loss(y,value,labels=y_train)\n",
        "   # print(res)\n",
        "    return res\n",
        "        "
      ],
      "execution_count": 0,
      "outputs": []
    },
    {
      "cell_type": "code",
      "metadata": {
        "id": "i-ZRP66-t6lz",
        "colab_type": "code",
        "colab": {}
      },
      "source": [
        "def gradient(params,x,y,State_labels):\n",
        "    \"\"\"\n",
        "    this function computes the gradients for each varaible in the quantum circuit\n",
        "    it takes:\n",
        "    x: a single sample\n",
        "    y: the corresponding label\n",
        "    State_labels: are the target states created from create_data()\n",
        "    \"\"\"\n",
        "    g = np.zeros(params.shape)\n",
        "    \n",
        "    for qubit in range(len(params)):\n",
        "        \n",
        "        for layer in range(len(params[qubit])):\n",
        "            \n",
        "            for val in range(len(params[qubit][layer])):\n",
        "                \n",
        "        \n",
        "                params[qubit][layer][val] = params[qubit][layer][val]+np.pi/2\n",
        "                \n",
        "                F1 = cost(params,x,y,State_labels)\n",
        "                \n",
        "                params[qubit][layer][val] = params[qubit][layer][val]-np.pi/2\n",
        "                \n",
        "                \n",
        "                params[qubit][layer][val] = params[qubit][layer][val]-np.pi/2\n",
        "    \n",
        "                F2 = cost(params,x,y,State_labels)\n",
        "                \n",
        "                params[qubit][layer][val] = params[qubit][layer][val]+np.pi/2\n",
        "                \n",
        "                g[qubit][layer][val] = (F1-F2)/2\n",
        "    return g"
      ],
      "execution_count": 0,
      "outputs": []
    },
    {
      "cell_type": "code",
      "metadata": {
        "id": "E6eHULlEObkA",
        "colab_type": "code",
        "colab": {}
      },
      "source": [
        "def optimize(params,X,y,lr,State_labels):\n",
        "    \n",
        "    g = gradient(params,X,y,State_labels)\n",
        "    \n",
        "    new_weights = params - (lr*g)\n",
        "    \n",
        "    return new_weights"
      ],
      "execution_count": 0,
      "outputs": []
    },
    {
      "cell_type": "code",
      "metadata": {
        "id": "ZiISGCoOt6mD",
        "colab_type": "code",
        "colab": {}
      },
      "source": [
        "def predict(params,X):\n",
        "\n",
        "    \"\"\"\n",
        "    this function takes only the weights \"params\" and a single sample from the data\n",
        "\n",
        "    it returns a continous output ranging from 0 to 1. this requires rounding the output\n",
        "\n",
        "    \"\"\"\n",
        "\n",
        "    fid_1,fid_2 = circuit(params,X)\n",
        "\n",
        "\n",
        "    if fid_1 > fid_2:\n",
        "      \n",
        "      return abs(1-fid_1)\n",
        "    \n",
        "    else:\n",
        "\n",
        "      return fid_2\n",
        "    "
      ],
      "execution_count": 0,
      "outputs": []
    },
    {
      "cell_type": "code",
      "metadata": {
        "id": "Aup0YP-7t6mH",
        "colab_type": "code",
        "colab": {}
      },
      "source": [
        "np.random.seed(100) #to be reproducible \n",
        "#params = np.random.rand(1,6,3)\n",
        "weights = params\n",
        "loss = np.inf\n",
        "lr = 0.22\n",
        "test_loss = []\n",
        "epochs = 500\n",
        "batch_size = 20\n",
        "\n",
        "for it in range(epochs):\n",
        "\n",
        "\n",
        "    # create random indices every iteration \"stochastic gradient descent way not mini batch because of long time\" \n",
        "    index = np.random.randint(0,len(x_train),batch_size)\n",
        "    x_batch,y_batch = x_train[index],y_train[index]\n",
        "    # if you want to decay lr uncomment the following and edit it the way you want \n",
        "    #if i+1 == 500 or i+1 == 800:\n",
        "     #   lr = lr - 0.05\n",
        "    weights = optimize(weights,x_batch,y_batch,lr,State_labels)\n",
        "    \n",
        "    res = cost(weights,x_test,y_test,State_labels)\n",
        "    test_loss.append(res)\n",
        "\n",
        "    # save best weights based on testing portion of the data    \n",
        "    if res < loss:\n",
        "        loss = res\n",
        "        var = weights\n",
        "    print(\n",
        "        \"Epoch: {:2d} | testing loss: {:4f}\".format(it+1,res))"
      ],
      "execution_count": 0,
      "outputs": []
    },
    {
      "cell_type": "code",
      "metadata": {
        "id": "X6C-bIGvt6mN",
        "colab_type": "code",
        "outputId": "0fc9f4d8-b957-426c-cc8b-f15c12927ab3",
        "colab": {
          "base_uri": "https://localhost:8080/",
          "height": 279
        }
      },
      "source": [
        "plt.xlabel('no of epochs')\n",
        "plt.ylabel('test loss')\n",
        "plt.plot(range(len(test_loss)),test_loss)\n",
        "plt.show()"
      ],
      "execution_count": 35,
      "outputs": [
        {
          "output_type": "display_data",
          "data": {
            "image/png": "[encoded data removed]",
            "text/plain": [
              "<Figure size 432x288 with 1 Axes>"
            ]
          },
          "metadata": {
            "tags": []
          }
        }
      ]
    },
    {
      "cell_type": "code",
      "metadata": {
        "id": "ca3cohkSfgPc",
        "colab_type": "code",
        "colab": {}
      },
      "source": [
        "\n",
        "#print(var.shape)\n",
        "pred = []\n",
        "for j in range(len(x_train)):\n",
        "    pred.append(predict(var,x_train[j]))\n"
      ],
      "execution_count": 0,
      "outputs": []
    },
    {
      "cell_type": "code",
      "metadata": {
        "id": "0glM2gtzt6mX",
        "colab_type": "code",
        "outputId": "39a33896-71d8-4c96-dcac-70a0c704b070",
        "colab": {
          "base_uri": "https://localhost:8080/",
          "height": 187
        }
      },
      "source": [
        "print(accuracy_score(np.array(pred).round(),y_train))\n",
        "print(classification_report(np.array(pred).round(),y_train))"
      ],
      "execution_count": 41,
      "outputs": [
        {
          "output_type": "stream",
          "text": [
            "1.0\n",
            "              precision    recall  f1-score   support\n",
            "\n",
            "         0.0       1.00      1.00      1.00        90\n",
            "         1.0       1.00      1.00      1.00        90\n",
            "\n",
            "    accuracy                           1.00       180\n",
            "   macro avg       1.00      1.00      1.00       180\n",
            "weighted avg       1.00      1.00      1.00       180\n",
            "\n"
          ],
          "name": "stdout"
        }
      ]
    },
    {
      "cell_type": "code",
      "metadata": {
        "id": "t7cd2GWBt6mb",
        "colab_type": "code",
        "colab": {}
      },
      "source": [
        "xx, yy = np.meshgrid(np.linspace(-2, 2, 50), np.linspace(-2, 2, 50))\n",
        "X_grid = [np.array([x, y]) for x, y in zip(xx.flatten(), yy.flatten())]\n",
        "X_grid = np.hstack((X_grid,np.zeros(len(X_grid)).reshape(-1,1)))\n",
        "predictions_grid = [predict(var, x) for x in X_grid]"
      ],
      "execution_count": 0,
      "outputs": []
    },
    {
      "cell_type": "code",
      "metadata": {
        "id": "Mfh2Yubat6mg",
        "colab_type": "code",
        "outputId": "2f50770e-d716-42a1-f795-18a3453e9c93",
        "colab": {
          "base_uri": "https://localhost:8080/",
          "height": 269
        }
      },
      "source": [
        "Z = np.reshape(np.array(predictions_grid).round(), xx.shape)\n",
        "cm = plt.cm.RdBu\n",
        "cnt = plt.contourf(xx, yy, Z, levels=np.arange(0., 1.1, 0.1), cmap=cm, alpha=.8)\n",
        "plt.colorbar(cnt, ticks=[0, 0.5, 1])\n",
        "plt.scatter(x_train[:, 0][y_train==0], x_train[:, 1][y_train==0], c='g', marker='^', edgecolors='k',label='train 0')\n",
        "plt.scatter(x_train[:, 0][y_train==1], x_train[:, 1][y_train==1], c='b', marker='*', edgecolors='k',label='train 1')\n",
        "plt.scatter(x_test[:, 0][y_test==0], x_test[:, 1][y_test==0], c='r', marker='+', edgecolors='k',label='test 0')\n",
        "plt.scatter(x_test[:, 0][y_test==1], x_test[:, 1][y_test==1], c='black', marker='<', edgecolors='k',label='test 1')\n",
        "\n",
        "plt.ylim(-1.07, 1.07)\n",
        "plt.xlim(-1.07, 1.07)\n",
        "plt.legend()\n",
        "plt.savefig('decision_b.png',dpi=700)\n",
        "plt.show()\n"
      ],
      "execution_count": 42,
      "outputs": [
        {
          "output_type": "display_data",
          "data": {
            "image/png": "[encoded data removed]",
            "text/plain": [
              "<Figure size 432x288 with 2 Axes>"
            ]
          },
          "metadata": {
            "tags": []
          }
        }
      ]
    },
    {
      "cell_type": "code",
      "metadata": {
        "id": "T4YjYrxbziMy",
        "colab_type": "code",
        "colab": {
          "base_uri": "https://localhost:8080/",
          "height": 34
        },
        "outputId": "345a2b1a-7ec0-409f-e37b-721c9ae0eba0"
      },
      "source": [
        "var[0][0]"
      ],
      "execution_count": 175,
      "outputs": [
        {
          "output_type": "execute_result",
          "data": {
            "text/plain": [
              "array([1.13449496, 0.28881491, 1.41365572])"
            ]
          },
          "metadata": {
            "tags": []
          },
          "execution_count": 175
        }
      ]
    },
    {
      "cell_type": "code",
      "metadata": {
        "id": "Tf9AeMAPOly4",
        "colab_type": "code",
        "colab": {
          "base_uri": "https://localhost:8080/",
          "height": 221
        },
        "outputId": "af6fbff9-29b8-4b0b-e4b6-90476cb0212a"
      },
      "source": [
        "for i in range(len(var)):\n",
        "  for id,j in enumerate(params[i]):\n",
        "    print(id)\n",
        "    print(j)"
      ],
      "execution_count": 177,
      "outputs": [
        {
          "output_type": "stream",
          "text": [
            "0\n",
            "[0.8734294  0.96854066 0.86919454]\n",
            "1\n",
            "[0.53085569 0.23272833 0.0113988 ]\n",
            "2\n",
            "[0.43046882 0.40235136 0.52267467]\n",
            "3\n",
            "[0.4783918  0.55535647 0.54338602]\n",
            "4\n",
            "[0.76089558 0.71237457 0.6196821 ]\n",
            "5\n",
            "[0.42609177 0.28907503 0.97385524]\n"
          ],
          "name": "stdout"
        }
      ]
    },
    {
      "cell_type": "code",
      "metadata": {
        "id": "8RyQ36l1O4k6",
        "colab_type": "code",
        "colab": {
          "base_uri": "https://localhost:8080/",
          "height": 119
        },
        "outputId": "7fd248f9-b017-4138-8754-f849445107ad"
      },
      "source": [
        "for layer in range(len(var[0])):\n",
        "  for qubit in range(1):\n",
        "    print(var[qubit][layer])"
      ],
      "execution_count": 180,
      "outputs": [
        {
          "output_type": "stream",
          "text": [
            "[1.13449496 0.28881491 1.41365572]\n",
            "[ 1.04005053  1.11646599 -1.71870497]\n",
            "[ 0.23246252 -0.40714122  0.48893466]\n",
            "[ 1.21158487  0.71205549 -0.76677812]\n",
            "[ 2.46779094 -0.92909167 -0.34517346]\n",
            "[-0.45782809  0.81168315 -0.0658338 ]\n"
          ],
          "name": "stdout"
        }
      ]
    },
    {
      "cell_type": "code",
      "metadata": {
        "id": "i-iV13zQPKog",
        "colab_type": "code",
        "colab": {
          "base_uri": "https://localhost:8080/",
          "height": 34
        },
        "outputId": "0fccf294-c5cd-474a-d413-bba5557b4c7d"
      },
      "source": [
        "len(params[0])"
      ],
      "execution_count": 184,
      "outputs": [
        {
          "output_type": "execute_result",
          "data": {
            "text/plain": [
              "6"
            ]
          },
          "metadata": {
            "tags": []
          },
          "execution_count": 184
        }
      ]
    },
    {
      "cell_type": "code",
      "metadata": {
        "id": "EN4nOM-6PYGO",
        "colab_type": "code",
        "colab": {}
      },
      "source": [
        ""
      ],
      "execution_count": 0,
      "outputs": []
    }
  ]
}